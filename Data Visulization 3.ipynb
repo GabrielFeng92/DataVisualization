{
 "cells": [
  {
   "cell_type": "code",
   "execution_count": 1,
   "metadata": {},
   "outputs": [],
   "source": [
    "import matplotlib.pyplot as plt\n",
    "import pandas as pd \n",
    "import numpy as np \n",
    "import seaborn as sns"
   ]
  },
  {
   "cell_type": "code",
   "execution_count": 56,
   "metadata": {},
   "outputs": [],
   "source": [
    "## to set the parse_dates columns to combine all the columns togethr\n",
    "pl = pd.read_csv(\"pollution_wide.csv\", dtype= {'year':str, 'month': str,'day':str})\n"
   ]
  },
  {
   "cell_type": "code",
   "execution_count": 57,
   "metadata": {},
   "outputs": [
    {
     "name": "stdout",
     "output_type": "stream",
     "text": [
      "         city  year month day     CO   NO2     O3    SO2\n",
      "0  Cincinnati  2012     1   1  0.245  20.0  0.030   4.20\n",
      "1  Cincinnati  2012     1   2  0.185   9.0  0.025   6.35\n",
      "2  Cincinnati  2012     1   3  0.335  31.0  0.025   4.25\n",
      "3  Cincinnati  2012     1   4  0.305  25.0  0.016  17.15\n",
      "4  Cincinnati  2012     1   5  0.345  21.0  0.016  11.05\n",
      "5  Cincinnati  2012     1   6  0.220  23.0  0.029   6.95\n",
      "6  Cincinnati  2012     1   7  0.215  17.0  0.027   8.35\n",
      "7  Cincinnati  2012     1   8  0.235  21.0  0.024  13.05\n",
      "8  Cincinnati  2012     1   9  0.370  34.0  0.017  36.75\n",
      "Index(['city', 'year', 'month', 'day', 'CO', 'NO2', 'O3', 'SO2'], dtype='object')\n",
      "<class 'pandas.core.frame.DataFrame'>\n",
      "RangeIndex: 8888 entries, 0 to 8887\n",
      "Data columns (total 8 columns):\n",
      "city     8888 non-null object\n",
      "year     8888 non-null object\n",
      "month    8888 non-null object\n",
      "day      8888 non-null object\n",
      "CO       8888 non-null float64\n",
      "NO2      8888 non-null float64\n",
      "O3       8888 non-null float64\n",
      "SO2      8888 non-null float64\n",
      "dtypes: float64(4), object(4)\n",
      "memory usage: 555.6+ KB\n",
      "None\n",
      "                CO          NO2           O3          SO2\n",
      "count  8888.000000  8888.000000  8888.000000  8888.000000\n",
      "mean      0.492867    23.689168     0.035904     3.824927\n",
      "std       0.403896    16.760212     0.013221     6.582867\n",
      "min      -0.150000     0.000000     0.000000    -1.300000\n",
      "25%       0.250000    11.000000     0.027000     0.500000\n",
      "50%       0.350000    22.000000     0.036000     1.650000\n",
      "75%       0.551875    34.600000     0.045000     4.150000\n",
      "max       5.170000   136.400000     0.108000   145.000000\n"
     ]
    }
   ],
   "source": [
    "print(pl.head(9))\n",
    "print(pl.columns)\n",
    "print(pl.info())\n",
    "print(pl.describe())\n"
   ]
  },
  {
   "cell_type": "code",
   "execution_count": 81,
   "metadata": {},
   "outputs": [],
   "source": [
    "### transform\n",
    "\n",
    "pl['date'] = pl['year'].astype(str) +'-'+pl['month'].astype(str)\n",
    "\n",
    "\n",
    "pl['datetime'] = pd.to_datetime(pl.date,format=\"%Y-%m\")"
   ]
  },
  {
   "cell_type": "code",
   "execution_count": 78,
   "metadata": {},
   "outputs": [
    {
     "data": {
      "text/html": [
       "<div>\n",
       "<style scoped>\n",
       "    .dataframe tbody tr th:only-of-type {\n",
       "        vertical-align: middle;\n",
       "    }\n",
       "\n",
       "    .dataframe tbody tr th {\n",
       "        vertical-align: top;\n",
       "    }\n",
       "\n",
       "    .dataframe thead th {\n",
       "        text-align: right;\n",
       "    }\n",
       "</style>\n",
       "<table border=\"1\" class=\"dataframe\">\n",
       "  <thead>\n",
       "    <tr style=\"text-align: right;\">\n",
       "      <th></th>\n",
       "      <th>city</th>\n",
       "      <th>year</th>\n",
       "      <th>month</th>\n",
       "      <th>day</th>\n",
       "      <th>CO</th>\n",
       "      <th>NO2</th>\n",
       "      <th>O3</th>\n",
       "      <th>SO2</th>\n",
       "      <th>date</th>\n",
       "      <th>datetime</th>\n",
       "    </tr>\n",
       "  </thead>\n",
       "  <tbody>\n",
       "    <tr>\n",
       "      <td>0</td>\n",
       "      <td>Cincinnati</td>\n",
       "      <td>2012</td>\n",
       "      <td>1</td>\n",
       "      <td>1</td>\n",
       "      <td>0.245</td>\n",
       "      <td>20.0</td>\n",
       "      <td>0.030</td>\n",
       "      <td>4.20</td>\n",
       "      <td>2012-1</td>\n",
       "      <td>2012-01-01</td>\n",
       "    </tr>\n",
       "    <tr>\n",
       "      <td>1</td>\n",
       "      <td>Cincinnati</td>\n",
       "      <td>2012</td>\n",
       "      <td>1</td>\n",
       "      <td>2</td>\n",
       "      <td>0.185</td>\n",
       "      <td>9.0</td>\n",
       "      <td>0.025</td>\n",
       "      <td>6.35</td>\n",
       "      <td>2012-1</td>\n",
       "      <td>2012-01-01</td>\n",
       "    </tr>\n",
       "    <tr>\n",
       "      <td>2</td>\n",
       "      <td>Cincinnati</td>\n",
       "      <td>2012</td>\n",
       "      <td>1</td>\n",
       "      <td>3</td>\n",
       "      <td>0.335</td>\n",
       "      <td>31.0</td>\n",
       "      <td>0.025</td>\n",
       "      <td>4.25</td>\n",
       "      <td>2012-1</td>\n",
       "      <td>2012-01-01</td>\n",
       "    </tr>\n",
       "    <tr>\n",
       "      <td>3</td>\n",
       "      <td>Cincinnati</td>\n",
       "      <td>2012</td>\n",
       "      <td>1</td>\n",
       "      <td>4</td>\n",
       "      <td>0.305</td>\n",
       "      <td>25.0</td>\n",
       "      <td>0.016</td>\n",
       "      <td>17.15</td>\n",
       "      <td>2012-1</td>\n",
       "      <td>2012-01-01</td>\n",
       "    </tr>\n",
       "    <tr>\n",
       "      <td>4</td>\n",
       "      <td>Cincinnati</td>\n",
       "      <td>2012</td>\n",
       "      <td>1</td>\n",
       "      <td>5</td>\n",
       "      <td>0.345</td>\n",
       "      <td>21.0</td>\n",
       "      <td>0.016</td>\n",
       "      <td>11.05</td>\n",
       "      <td>2012-1</td>\n",
       "      <td>2012-01-01</td>\n",
       "    </tr>\n",
       "  </tbody>\n",
       "</table>\n",
       "</div>"
      ],
      "text/plain": [
       "         city  year month day     CO   NO2     O3    SO2    date   datetime\n",
       "0  Cincinnati  2012     1   1  0.245  20.0  0.030   4.20  2012-1 2012-01-01\n",
       "1  Cincinnati  2012     1   2  0.185   9.0  0.025   6.35  2012-1 2012-01-01\n",
       "2  Cincinnati  2012     1   3  0.335  31.0  0.025   4.25  2012-1 2012-01-01\n",
       "3  Cincinnati  2012     1   4  0.305  25.0  0.016  17.15  2012-1 2012-01-01\n",
       "4  Cincinnati  2012     1   5  0.345  21.0  0.016  11.05  2012-1 2012-01-01"
      ]
     },
     "execution_count": 78,
     "metadata": {},
     "output_type": "execute_result"
    }
   ],
   "source": [
    "pl.head()"
   ]
  },
  {
   "cell_type": "code",
   "execution_count": 48,
   "metadata": {},
   "outputs": [
    {
     "data": {
      "text/plain": [
       "Houston                      1433\n",
       "Vandenberg Air Force Base    1425\n",
       "Denver                       1389\n",
       "Long Beach                   1193\n",
       "Indianapolis                 1137\n",
       "Cincinnati                    985\n",
       "Des Moines                    832\n",
       "Fairbanks                     494\n",
       "Name: city, dtype: int64"
      ]
     },
     "execution_count": 48,
     "metadata": {},
     "output_type": "execute_result"
    }
   ],
   "source": [
    "###\n",
    "pl.city.value_counts()"
   ]
  },
  {
   "cell_type": "code",
   "execution_count": 21,
   "metadata": {},
   "outputs": [
    {
     "data": {
      "image/png": "[encoded data removed]",
      "text/plain": [
       "<Figure size 360x360 with 1 Axes>"
      ]
     },
     "metadata": {
      "needs_background": "light"
     },
     "output_type": "display_data"
    }
   ],
   "source": [
    "### count differetn city : catplot vs countplot()\n",
    "\n",
    "sns.catplot(x=\"city\", data=pl, kind =\"count\")\n",
    "\n",
    "plt.xticks(rotation=45)\n",
    "plt.show()"
   ]
  },
  {
   "cell_type": "code",
   "execution_count": 82,
   "metadata": {},
   "outputs": [],
   "source": [
    "pl_denver = pl[pl.city == 'Denver']"
   ]
  },
  {
   "cell_type": "code",
   "execution_count": 83,
   "metadata": {},
   "outputs": [
    {
     "name": "stdout",
     "output_type": "stream",
     "text": [
      "<class 'pandas.core.frame.DataFrame'>\n",
      "Int64Index: 1389 entries, 985 to 2373\n",
      "Data columns (total 10 columns):\n",
      "city        1389 non-null object\n",
      "year        1389 non-null object\n",
      "month       1389 non-null object\n",
      "day         1389 non-null object\n",
      "CO          1389 non-null float64\n",
      "NO2         1389 non-null float64\n",
      "O3          1389 non-null float64\n",
      "SO2         1389 non-null float64\n",
      "date        1389 non-null object\n",
      "datetime    1389 non-null datetime64[ns]\n",
      "dtypes: datetime64[ns](1), float64(4), object(5)\n",
      "memory usage: 119.4+ KB\n"
     ]
    }
   ],
   "source": [
    "pl_denver.info()"
   ]
  },
  {
   "cell_type": "code",
   "execution_count": 84,
   "metadata": {},
   "outputs": [
    {
     "data": {
      "text/html": [
       "<div>\n",
       "<style scoped>\n",
       "    .dataframe tbody tr th:only-of-type {\n",
       "        vertical-align: middle;\n",
       "    }\n",
       "\n",
       "    .dataframe tbody tr th {\n",
       "        vertical-align: top;\n",
       "    }\n",
       "\n",
       "    .dataframe thead th {\n",
       "        text-align: right;\n",
       "    }\n",
       "</style>\n",
       "<table border=\"1\" class=\"dataframe\">\n",
       "  <thead>\n",
       "    <tr style=\"text-align: right;\">\n",
       "      <th></th>\n",
       "      <th>city</th>\n",
       "      <th>year</th>\n",
       "      <th>month</th>\n",
       "      <th>day</th>\n",
       "      <th>CO</th>\n",
       "      <th>NO2</th>\n",
       "      <th>O3</th>\n",
       "      <th>SO2</th>\n",
       "      <th>date</th>\n",
       "      <th>datetime</th>\n",
       "    </tr>\n",
       "  </thead>\n",
       "  <tbody>\n",
       "    <tr>\n",
       "      <td>985</td>\n",
       "      <td>Denver</td>\n",
       "      <td>2012</td>\n",
       "      <td>2</td>\n",
       "      <td>38</td>\n",
       "      <td>0.55</td>\n",
       "      <td>45.0</td>\n",
       "      <td>0.013</td>\n",
       "      <td>0.65</td>\n",
       "      <td>2012-2</td>\n",
       "      <td>2012-02-01</td>\n",
       "    </tr>\n",
       "    <tr>\n",
       "      <td>986</td>\n",
       "      <td>Denver</td>\n",
       "      <td>2012</td>\n",
       "      <td>2</td>\n",
       "      <td>39</td>\n",
       "      <td>0.80</td>\n",
       "      <td>74.0</td>\n",
       "      <td>0.003</td>\n",
       "      <td>13.00</td>\n",
       "      <td>2012-2</td>\n",
       "      <td>2012-02-01</td>\n",
       "    </tr>\n",
       "    <tr>\n",
       "      <td>987</td>\n",
       "      <td>Denver</td>\n",
       "      <td>2012</td>\n",
       "      <td>2</td>\n",
       "      <td>40</td>\n",
       "      <td>0.65</td>\n",
       "      <td>72.0</td>\n",
       "      <td>0.018</td>\n",
       "      <td>15.15</td>\n",
       "      <td>2012-2</td>\n",
       "      <td>2012-02-01</td>\n",
       "    </tr>\n",
       "    <tr>\n",
       "      <td>988</td>\n",
       "      <td>Denver</td>\n",
       "      <td>2012</td>\n",
       "      <td>2</td>\n",
       "      <td>41</td>\n",
       "      <td>0.45</td>\n",
       "      <td>61.0</td>\n",
       "      <td>0.025</td>\n",
       "      <td>14.30</td>\n",
       "      <td>2012-2</td>\n",
       "      <td>2012-02-01</td>\n",
       "    </tr>\n",
       "    <tr>\n",
       "      <td>989</td>\n",
       "      <td>Denver</td>\n",
       "      <td>2012</td>\n",
       "      <td>2</td>\n",
       "      <td>42</td>\n",
       "      <td>0.25</td>\n",
       "      <td>43.0</td>\n",
       "      <td>0.018</td>\n",
       "      <td>0.80</td>\n",
       "      <td>2012-2</td>\n",
       "      <td>2012-02-01</td>\n",
       "    </tr>\n",
       "  </tbody>\n",
       "</table>\n",
       "</div>"
      ],
      "text/plain": [
       "       city  year month day    CO   NO2     O3    SO2    date   datetime\n",
       "985  Denver  2012     2  38  0.55  45.0  0.013   0.65  2012-2 2012-02-01\n",
       "986  Denver  2012     2  39  0.80  74.0  0.003  13.00  2012-2 2012-02-01\n",
       "987  Denver  2012     2  40  0.65  72.0  0.018  15.15  2012-2 2012-02-01\n",
       "988  Denver  2012     2  41  0.45  61.0  0.025  14.30  2012-2 2012-02-01\n",
       "989  Denver  2012     2  42  0.25  43.0  0.018   0.80  2012-2 2012-02-01"
      ]
     },
     "execution_count": 84,
     "metadata": {},
     "output_type": "execute_result"
    }
   ],
   "source": [
    "pl_denver.head()"
   ]
  },
  {
   "cell_type": "code",
   "execution_count": null,
   "metadata": {},
   "outputs": [],
   "source": []
  }
 ],
 "metadata": {
  "kernelspec": {
   "display_name": "Python 3",
   "language": "python",
   "name": "python3"
  },
  "language_info": {
   "codemirror_mode": {
    "name": "ipython",
    "version": 3
   },
   "file_extension": ".py",
   "mimetype": "text/x-python",
   "name": "python",
   "nbconvert_exporter": "python",
   "pygments_lexer": "ipython3",
   "version": "3.7.4"
  }
 },
 "nbformat": 4,
 "nbformat_minor": 2
}
